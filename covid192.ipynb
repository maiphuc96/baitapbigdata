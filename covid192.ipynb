{
 "cells": [
  {
   "cell_type": "code",
   "execution_count": 1,
   "metadata": {},
   "outputs": [
    {
     "name": "stdout",
     "output_type": "stream",
     "text": [
      "+----------+-------+-------+-----+-----+------+---------------+----------------+--------------+---------------+\n",
      "|date      |county |state  |fips |cases|deaths|confirmed_cases|confirmed_deaths|probable_cases|probable_deaths|\n",
      "+----------+-------+-------+-----+-----+------+---------------+----------------+--------------+---------------+\n",
      "|2020-06-22|Autauga|Alabama|01001|434  |9     |428            |8               |6             |1              |\n",
      "|2020-06-22|Baldwin|Alabama|01003|430  |9     |415            |9               |15            |0              |\n",
      "|2020-06-22|Barbour|Alabama|01005|272  |1     |271            |1               |1             |0              |\n",
      "|2020-06-22|Bibb   |Alabama|01007|127  |1     |124            |1               |3             |0              |\n",
      "|2020-06-22|Blount |Alabama|01009|149  |1     |146            |1               |3             |0              |\n",
      "+----------+-------+-------+-----+-----+------+---------------+----------------+--------------+---------------+\n",
      "only showing top 5 rows\n",
      "\n"
     ]
    },
    {
     "data": {
      "text/plain": [
       "3125"
      ]
     },
     "execution_count": 1,
     "metadata": {},
     "output_type": "execute_result"
    }
   ],
   "source": [
    "#load file csv in ra tong so dong\n",
    "df = spark.read.format(\"csv\").option(\"header\", \"true\").load(\"us-counties.csv\")\n",
    "df.show(5,False)\n",
    "df.count()"
   ]
  },
  {
   "cell_type": "code",
   "execution_count": 2,
   "metadata": {},
   "outputs": [
    {
     "name": "stdout",
     "output_type": "stream",
     "text": [
      "root\n",
      " |-- date: string (nullable = true)\n",
      " |-- county: string (nullable = true)\n",
      " |-- state: string (nullable = true)\n",
      " |-- fips: string (nullable = true)\n",
      " |-- cases: string (nullable = true)\n",
      " |-- deaths: string (nullable = true)\n",
      " |-- confirmed_cases: string (nullable = true)\n",
      " |-- confirmed_deaths: string (nullable = true)\n",
      " |-- probable_cases: string (nullable = true)\n",
      " |-- probable_deaths: string (nullable = true)\n",
      "\n"
     ]
    }
   ],
   "source": [
    "#xem cau truc cua dataframes\n",
    "df.printSchema()"
   ]
  },
  {
   "cell_type": "code",
   "execution_count": 3,
   "metadata": {},
   "outputs": [
    {
     "name": "stdout",
     "output_type": "stream",
     "text": [
      "root\n",
      " |-- cases: integer (nullable = true)\n",
      " |-- deaths: integer (nullable = true)\n",
      "\n",
      "+-------+-----------------+-----------------+\n",
      "|summary|            cases|           deaths|\n",
      "+-------+-----------------+-----------------+\n",
      "|  count|             3046|             3046|\n",
      "|   mean|750.8381483913329|39.34504267892318|\n",
      "| stddev|5069.217446406443|429.9272647690966|\n",
      "|    min|                0|                0|\n",
      "|    max|           217189|            21753|\n",
      "+-------+-----------------+-----------------+\n",
      "\n"
     ]
    },
    {
     "data": {
      "text/plain": [
       "3046"
      ]
     },
     "execution_count": 3,
     "metadata": {},
     "output_type": "execute_result"
    }
   ],
   "source": [
    "from pyspark.sql.types import *\n",
    "#xoa tat ca cac dong = null\n",
    "df = df.filter(df.cases.isNotNull())\n",
    "df = df.filter(df.deaths.isNotNull())\n",
    "\n",
    "\n",
    "#convert datatype\n",
    "df = df.withColumn(\"cases\",df['cases'].cast(IntegerType()))\n",
    "df = df.withColumn(\"deaths\",df['deaths'].cast(IntegerType()))\n",
    "\n",
    "#xoa cac columns ko can thiet\n",
    "columns_to_drop = ['date','county','state','fips','confirmed_cases','confirmed_deaths','probable_cases','probable_deaths']\n",
    "df = df.drop(*columns_to_drop)\n",
    "df.printSchema()\n",
    "df.describe().show()\n",
    "df.count()\n"
   ]
  },
  {
   "cell_type": "code",
   "execution_count": 4,
   "metadata": {},
   "outputs": [
    {
     "name": "stdout",
     "output_type": "stream",
     "text": [
      "+-----+------+\n",
      "|cases|deaths|\n",
      "+-----+------+\n",
      "|434  |9     |\n",
      "|430  |9     |\n",
      "|272  |1     |\n",
      "|127  |1     |\n",
      "|149  |1     |\n",
      "|327  |10    |\n",
      "|576  |26    |\n",
      "|213  |4     |\n",
      "|521  |27    |\n",
      "|58   |6     |\n",
      "+-----+------+\n",
      "only showing top 10 rows\n",
      "\n",
      "+-------+-----------------+-----------------+\n",
      "|summary|            cases|           deaths|\n",
      "+-------+-----------------+-----------------+\n",
      "|  count|             3044|             3044|\n",
      "|   mean|751.3314717477004|39.35840998685939|\n",
      "| stddev|5070.846475604159|430.0681471936701|\n",
      "|    min|                1|                0|\n",
      "|    max|           217189|            21753|\n",
      "+-------+-----------------+-----------------+\n",
      "\n"
     ]
    }
   ],
   "source": [
    "df_main = df\n",
    "from pyspark.sql import functions as F\n",
    "#df_main = df_main.filter(df_main[\"deaths\"] > 0)\n",
    "df_main = df_main.filter(df_main[\"cases\"] > 0)\n",
    "#df_main = df_main.where((df_main[\"deaths\"] /  df_main[\"cases\"]) < 0.2)\n",
    "df_main.show(10,False)\n",
    "df_main.describe().show()\n"
   ]
  },
  {
   "cell_type": "code",
   "execution_count": 5,
   "metadata": {},
   "outputs": [
    {
     "name": "stdout",
     "output_type": "stream",
     "text": [
      "+--------+------+\n",
      "|features|deaths|\n",
      "+--------+------+\n",
      "|[434.0] |9     |\n",
      "|[430.0] |9     |\n",
      "|[272.0] |1     |\n",
      "|[127.0] |1     |\n",
      "|[149.0] |1     |\n",
      "|[327.0] |10    |\n",
      "|[576.0] |26    |\n",
      "|[213.0] |4     |\n",
      "|[521.0] |27    |\n",
      "|[58.0]  |6     |\n",
      "+--------+------+\n",
      "only showing top 10 rows\n",
      "\n"
     ]
    }
   ],
   "source": [
    "#chuyen total_cases sang dang vector\n",
    "from pyspark.ml.linalg import Vectors\n",
    "from pyspark.ml.feature import VectorAssembler\n",
    "vectorAss = VectorAssembler(inputCols=[\"cases\"], outputCol=\"features\")\n",
    "vectorAss = vectorAss.transform(df_main)\n",
    "vectorAss.select('features','deaths').show(10,False)\n"
   ]
  },
  {
   "cell_type": "code",
   "execution_count": 6,
   "metadata": {},
   "outputs": [
    {
     "name": "stdout",
     "output_type": "stream",
     "text": [
      "+-------+------------------+\n",
      "|summary|            deaths|\n",
      "+-------+------------------+\n",
      "|  count|              2426|\n",
      "|   mean| 42.16859027205276|\n",
      "| stddev|476.16255131723625|\n",
      "|    min|                 0|\n",
      "|    max|             21753|\n",
      "+-------+------------------+\n",
      "\n",
      "+--------+------+\n",
      "|features|deaths|\n",
      "+--------+------+\n",
      "|[434.0] |9     |\n",
      "|[430.0] |9     |\n",
      "|[272.0] |1     |\n",
      "|[127.0] |1     |\n",
      "|[149.0] |1     |\n",
      "|[327.0] |10    |\n",
      "|[576.0] |26    |\n",
      "|[213.0] |4     |\n",
      "|[521.0] |27    |\n",
      "|[58.0]  |6     |\n",
      "+--------+------+\n",
      "only showing top 10 rows\n",
      "\n"
     ]
    }
   ],
   "source": [
    "final_data = vectorAss.select('features','deaths')\n",
    "train_data,test_data = final_data.randomSplit([0.8,0.2])\n",
    "train_data.describe().show()\n",
    "final_data.show(10,False)"
   ]
  },
  {
   "cell_type": "code",
   "execution_count": 7,
   "metadata": {},
   "outputs": [
    {
     "name": "stdout",
     "output_type": "stream",
     "text": [
      "+-------+------------------+\n",
      "|summary|            deaths|\n",
      "+-------+------------------+\n",
      "|  count|               618|\n",
      "|   mean|28.326860841423947|\n",
      "| stddev|144.66502958427506|\n",
      "|    min|                 0|\n",
      "|    max|              2683|\n",
      "+-------+------------------+\n",
      "\n"
     ]
    }
   ],
   "source": [
    "test_data.describe().show()"
   ]
  },
  {
   "cell_type": "code",
   "execution_count": 8,
   "metadata": {},
   "outputs": [
    {
     "name": "stdout",
     "output_type": "stream",
     "text": [
      "intercept:  -22.066513146486635\n",
      "coefficient:  [0.08207484591626872]\n",
      "Phuong sai trich dan:  204623.78586262264\n",
      "Sai so tuyet doi trung binh (MAE):  36.79159920613863\n",
      "Sai so binh phuong trung binh (MSE):  21751.581104046934\n",
      "Can cua sai so binh phuong trung binh (RMSE):  147.48417238485945\n",
      "R square:  0.9040247147673968\n"
     ]
    }
   ],
   "source": [
    "from pyspark.ml.regression import LinearRegression\n",
    "from pyspark.mllib.evaluation import RegressionMetrics\n",
    "ln = LinearRegression(maxIter=30, regParam=0.3, elasticNetParam=0.3, featuresCol='features', labelCol=\"deaths\")\n",
    "train_model = ln.fit(train_data)\n",
    "result = train_model.evaluate(train_data)\n",
    "\n",
    "print(\"intercept: \",train_model.intercept)\n",
    "print(\"coefficient: \",train_model.coefficients)\n",
    "print(\"Phuong sai trich dan: \", result.explainedVariance)\n",
    "print(\"Sai so tuyet doi trung binh (MAE): \", result.meanAbsoluteError)\n",
    "print(\"Sai so binh phuong trung binh (MSE): \", result.meanSquaredError)\n",
    "print(\"Can cua sai so binh phuong trung binh (RMSE): \", result.rootMeanSquaredError)\n",
    "print(\"R square: \",result.r2) #do chinh xac\n"
   ]
  },
  {
   "cell_type": "code",
   "execution_count": 9,
   "metadata": {},
   "outputs": [
    {
     "name": "stdout",
     "output_type": "stream",
     "text": [
      "+--------+------+------------------+\n",
      "|features|deaths|prediction        |\n",
      "+--------+------+------------------+\n",
      "|[514.0] |28.0  |20.119957654475485|\n",
      "|[517.0] |70.0  |20.366182192224294|\n",
      "|[519.0] |5.0   |20.530331884056828|\n",
      "|[521.0] |27.0  |20.69448157588937 |\n",
      "|[524.0] |37.0  |20.94070611363818 |\n",
      "|[525.0] |2.0   |21.022780959554446|\n",
      "|[526.0] |37.0  |21.104855805470713|\n",
      "|[532.0] |9.0   |21.597304880968323|\n",
      "|[532.0] |16.0  |21.597304880968323|\n",
      "|[532.0] |49.0  |21.597304880968323|\n",
      "+--------+------+------------------+\n",
      "only showing top 10 rows\n",
      "\n"
     ]
    }
   ],
   "source": [
    "#train_model.summary.predictions.show()\n",
    "train_model.summary.predictions.registerTempTable(\"tasks\")\n",
    "a = sqlContext.sql(\"select * from tasks where prediction > 20\");\n",
    "a.show(10,False)"
   ]
  },
  {
   "cell_type": "code",
   "execution_count": 10,
   "metadata": {},
   "outputs": [
    {
     "name": "stdout",
     "output_type": "stream",
     "text": [
      "+--------+\n",
      "|features|\n",
      "+--------+\n",
      "|[1.0]   |\n",
      "|[1.0]   |\n",
      "|[1.0]   |\n",
      "|[1.0]   |\n",
      "|[1.0]   |\n",
      "|[1.0]   |\n",
      "|[1.0]   |\n",
      "|[1.0]   |\n",
      "|[1.0]   |\n",
      "|[1.0]   |\n",
      "+--------+\n",
      "only showing top 10 rows\n",
      "\n"
     ]
    },
    {
     "data": {
      "text/plain": [
       "['features']"
      ]
     },
     "execution_count": 10,
     "metadata": {},
     "output_type": "execute_result"
    }
   ],
   "source": [
    "unLabel = test_data.select(\"features\")\n",
    "unLabel.show(10,False)\n",
    "unLabel.columns"
   ]
  },
  {
   "cell_type": "code",
   "execution_count": 11,
   "metadata": {
    "scrolled": true
   },
   "outputs": [
    {
     "name": "stdout",
     "output_type": "stream",
     "text": [
      "+--------+------------------+\n",
      "|features|prediction        |\n",
      "+--------+------------------+\n",
      "|[514.0] |20.119957654475485|\n",
      "|[516.0] |20.284107346308026|\n",
      "|[525.0] |21.022780959554446|\n",
      "|[525.0] |21.022780959554446|\n",
      "|[530.0] |21.43315518913579 |\n",
      "|[533.0] |21.67937972688459 |\n",
      "|[555.0] |23.485026337042505|\n",
      "|[566.0] |24.38784964212146 |\n",
      "|[570.0] |24.716149025786535|\n",
      "|[572.0] |24.880298717619077|\n",
      "+--------+------------------+\n",
      "only showing top 10 rows\n",
      "\n",
      "root\n",
      " |-- features: vector (nullable = true)\n",
      " |-- prediction: double (nullable = false)\n",
      "\n"
     ]
    }
   ],
   "source": [
    "prediction_unlabel = train_model.transform(unLabel)\n",
    "prediction_unlabel.registerTempTable(\"tasks\")\n",
    "b = sqlContext.sql(\"select * from tasks where prediction > 20\");\n",
    "b.show(10,False)\n",
    "prediction_unlabel.printSchema()"
   ]
  },
  {
   "cell_type": "code",
   "execution_count": 12,
   "metadata": {},
   "outputs": [
    {
     "data": {
      "image/png": "[encoded data removed]",
      "text/plain": [
       "<Figure size 1584x360 with 1 Axes>"
      ]
     },
     "metadata": {
      "needs_background": "light"
     },
     "output_type": "display_data"
    }
   ],
   "source": [
    "import matplotlib.pyplot as plt\n",
    "import numpy as np\n",
    "\n",
    "x = [int(row.cases) for row in df_main.select('cases').collect()]\n",
    "y = [int(row.deaths) for row in df_main.select('deaths').collect()]\n",
    "\n",
    "def convertVectorToArr(arr):\n",
    "    arr_temp = [];\n",
    "    for i in arr:\n",
    "        arr_temp.append(int(i[0][0]))\n",
    "    return arr_temp\n",
    "#join bộ test và train\n",
    "joindftrain = train_model.summary.predictions.drop(\"deaths\")\n",
    "joindf = prediction_unlabel.union(joindftrain)\n",
    "\n",
    "#lay bo test_data.feature (\"unLabel\")\n",
    "#convert vector sang kieu int \n",
    "arr = np.array(joindf.select('features').collect());\n",
    "features_draw = convertVectorToArr(arr)\n",
    "\n",
    "#du lieu dau ra y(total_deaths)=?\n",
    "prediction_draw = [int(row.prediction) for row in joindf.select('prediction').collect()]\n",
    "plt.figure(figsize=(22,5))\n",
    "plt.scatter(x,y,alpha=0.3)\n",
    "plt.plot(features_draw, prediction_draw,color=\"red\",linewidth=3)\n",
    "plt.title(\"Du doan total Deaths dua vao total Cases cua cac County\")\n",
    "plt.xlabel('Cases')\n",
    "plt.ylabel('Deaths')\n",
    "plt.xlim(0,220000)\n",
    "plt.ylim(0,22000)\n",
    "plt.show()"
   ]
  },
  {
   "cell_type": "code",
   "execution_count": null,
   "metadata": {
    "collapsed": true
   },
   "outputs": [],
   "source": []
  }
 ],
 "metadata": {
  "kernelspec": {
   "display_name": "Python 3",
   "language": "python",
   "name": "python3"
  },
  "language_info": {
   "codemirror_mode": {
    "name": "ipython",
    "version": 3
   },
   "file_extension": ".py",
   "mimetype": "text/x-python",
   "name": "python",
   "nbconvert_exporter": "python",
   "pygments_lexer": "ipython3",
   "version": "3.7.7"
  }
 },
 "nbformat": 4,
 "nbformat_minor": 1
}
